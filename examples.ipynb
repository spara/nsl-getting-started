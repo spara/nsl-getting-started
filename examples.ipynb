{
 "cells": [
  {
   "cell_type": "markdown",
   "id": "4f09f2c8",
   "metadata": {},
   "source": [
    "# Quick start"
   ]
  },
  {
   "cell_type": "code",
   "execution_count": null,
   "id": "f1bc3ea7",
   "metadata": {
    "scrolled": true
   },
   "outputs": [],
   "source": [
    "import tempfile, os\n",
    "from IPython.display import Image, display\n",
    "from datetime import date\n",
    "import rasterio\n",
    "from rasterio.plot import show\n",
    "from nsl.stac import StacRequest, GeometryData, ProjectionData\n",
    "from nsl.stac import enum, utils\n",
    "from nsl.stac.client import NSLClient\n",
    "\n",
    "# the client package stubs out a little bit of the gRPC connection code \n",
    "# get a client interface to the gRPC channel. This client singleton is threadsafe\n",
    "client = NSLClient()\n",
    "\n",
    "# our area of interest will be the coordinates of the UT Stadium in Austin, Texas\n",
    "# the order of coordinates here is longitude then latitude (x, y). The results of our query \n",
    "# will be returned only if they intersect this point geometry we've defined (other geometry \n",
    "# types besides points are supported)\n",
    "# This string format, POINT(float, float) is the well-known-text geometry format:\n",
    "# https://en.wikipedia.org/wiki/Well-known_text_representation_of_geometry\n",
    "ut_stadium_wkt = \"POINT(-97.7323317 30.2830764)\"\n",
    "# GeometryData is a protobuf container for GIS geometry information, the epsg in the spatial \n",
    "# reference defines the WGS-84 ellipsoid (`epsg=4326`) spatial reference (the latitude longitude \n",
    "# spatial reference most commonly used)\n",
    "geometry_data = GeometryData(wkt=ut_stadium_wkt, proj=ProjectionData(epsg=4326))\n",
    "\n",
    "# TimestampField is a query field that allows for making sql-like queries for information\n",
    "# LTE is an enum that means less than or equal to the value in the query field\n",
    "# Query data from August 25, 2019\n",
    "time_filter = utils.pb_timestampfield(value=date(2019, 8, 25), rel_type=enum.FilterRelationship.LTE)\n",
    "\n",
    "# the StacRequest is a protobuf message for making filter queries for data\n",
    "# This search looks for any type of imagery hosted in the STAC service that intersects the austin \n",
    "# capital area of interest and was observed on or before August 25, 2019\n",
    "stac_request = StacRequest(datetime=time_filter, intersects=geometry_data)\n",
    "\n",
    "# search_one method requests only one item be returned that meets the query filters in the StacRequest \n",
    "# the item returned is a StacItem protobuf message. search_one, will only return the most recently \n",
    "# observed results that matches the time filter and spatial filter\n",
    "stac_item = client.search_one(stac_request)\n",
    "\n",
    "# get the thumbnail asset from the assets map. The other option would be a Geotiff, \n",
    "# with asset key 'GEOTIFF_RGB'\n",
    "print(\"STAC id {}\".format(stac_item.id))\n",
    "asset = utils.get_asset(stac_item, asset_type=enum.AssetType.GEOTIFF)\n",
    "\n",
    "d = os.getcwd()\n",
    "\n",
    "# with save_dir as d:\n",
    "filename = utils.download_asset(asset=asset, save_directory=d)\n",
    "# display(Image(filename=filename))\n",
    "fp = filename\n",
    "img = rasterio.open(fp)\n",
    "show(img)"
   ]
  },
  {
   "cell_type": "markdown",
   "id": "687168f9",
   "metadata": {},
   "source": [
    "# Search"
   ]
  },
  {
   "cell_type": "markdown",
   "id": "187923d0",
   "metadata": {},
   "source": [
    "## Query by id"
   ]
  },
  {
   "cell_type": "code",
   "execution_count": null,
   "id": "8cf09726",
   "metadata": {
    "scrolled": false
   },
   "outputs": [],
   "source": [
    "stac_request = StacRequest(id='20190822T183518Z_746_POM1_ST2_P')\n",
    "\n",
    "# for this request we might as well use the search one, as STAC ids ought to be unique\n",
    "stac_item = client.search_one(stac_request)\n",
    "print(stac_item)"
   ]
  },
  {
   "cell_type": "markdown",
   "id": "14998a1e",
   "metadata": {},
   "source": [
    "## Query by bounding box"
   ]
  },
  {
   "cell_type": "code",
   "execution_count": null,
   "id": "d2349fbf",
   "metadata": {
    "scrolled": true
   },
   "outputs": [],
   "source": [
    "from nsl.stac import StacRequest, EnvelopeData, ProjectionData\n",
    "from nsl.stac.client import NSLClient\n",
    "\n",
    "client = NSLClient()\n",
    "\n",
    "# define our area of interest bounds using the xmin, ymin, xmax, ymax coordinates of an area on \n",
    "# the WGS-84 ellipsoid\n",
    "neighborhood_box = (-97.7352547645, 30.27526474757116, -97.7195692, 30.28532)\n",
    "# here we define our envelope_data protobuf with bounds and a WGS-84 (`epsg=4326`) spatial reference\n",
    "envelope_data = EnvelopeData(xmin=neighborhood_box[0], \n",
    "                             ymin=neighborhood_box[1], \n",
    "                             xmax=neighborhood_box[2], \n",
    "                             ymax=neighborhood_box[3],\n",
    "                             proj=ProjectionData(epsg=4326))\n",
    "# Search for data that intersects the bounding box\n",
    "stac_request = StacRequest(bbox=envelope_data)\n",
    "\n",
    "\n",
    "for stac_item in client.search(stac_request):\n",
    "    print(\"STAC item id: {}\".format(stac_item.id))"
   ]
  },
  {
   "cell_type": "markdown",
   "id": "46faadaa",
   "metadata": {},
   "source": [
    "## Query by geometry"
   ]
  },
  {
   "cell_type": "markdown",
   "id": "47c30e94",
   "metadata": {},
   "source": [
    "### Query by geojson"
   ]
  },
  {
   "cell_type": "code",
   "execution_count": null,
   "id": "01cbac20",
   "metadata": {
    "scrolled": true
   },
   "outputs": [],
   "source": [
    "import json\n",
    "import requests\n",
    "\n",
    "from nsl.stac import StacRequest, GeometryData, ProjectionData\n",
    "from nsl.stac.client import NSLClient\n",
    "client = NSLClient()\n",
    "\n",
    "# request the geojson footprint of Travis County, Texas\n",
    "url = \"http://raw.githubusercontent.com/johan/world.geo.json/master/countries/USA/TX/Travis.geo.json\"\n",
    "r = requests.get(url)\n",
    "travis_geojson = json.dumps(r.json()['features'][0]['geometry'])\n",
    "# create our GeometryData protobuf from geojson string and WGS-84 ProjectionData protobuf\n",
    "geometry_data = GeometryData(geojson=travis_geojson, \n",
    "                             proj=ProjectionData(epsg=4326))\n",
    "# Search for data that intersects the geojson geometry and limit results \n",
    "# to 2 (instead of default of 10)\n",
    "stac_request = StacRequest(intersects=geometry_data, limit=2)\n",
    "# collect the ids from STAC items to compare against results from wkt GeometryData\n",
    "geojson_ids = []\n",
    "\n",
    "# get a client interface to the gRPC channel\n",
    "client = NSLClient()\n",
    "for stac_item in client.search(stac_request):\n",
    "    print(\"STAC item id: {}\".format(stac_item.id))\n",
    "    geojson_ids.append(stac_item.id)\n"
   ]
  },
  {
   "cell_type": "markdown",
   "id": "6f4ff9c0",
   "metadata": {},
   "source": [
    "### Query by Well Known Text (WKT)"
   ]
  },
  {
   "cell_type": "code",
   "execution_count": null,
   "id": "b4431a5f",
   "metadata": {
    "scrolled": true
   },
   "outputs": [],
   "source": [
    "# Same geometry as above, but a wkt geometry instead of a geojson\n",
    "travis_wkt = \"POLYGON((-97.9736 30.6251, -97.9188 30.6032, -97.9243 30.5703, -97.8695 30.5484, \\\n",
    "              -97.8476 30.4717, -97.7764 30.4279, -97.5793 30.4991, -97.3711 30.4170, \\\n",
    "              -97.4916 30.2089, -97.6505 30.0719, -97.6669 30.0665, -97.7107 30.0226, \\\n",
    "              -98.1708 30.3567, -98.1270 30.4279, -98.0503 30.6251))\" \n",
    "geometry_data = GeometryData(wkt=travis_wkt, \n",
    "                             proj=ProjectionData(epsg=4326))\n",
    "stac_request = StacRequest(intersects=geometry_data, limit=2)\n",
    "for stac_item in client.search(stac_request):\n",
    "    print(\"STAC item id: {0} from wkt filter intersects result from geojson filter: {1}\"\n",
    "          .format(stac_item.id, stac_item.id in geojson_ids))"
   ]
  },
  {
   "cell_type": "markdown",
   "id": "7bc03ab8",
   "metadata": {},
   "source": [
    "## Temporal Queries"
   ]
  },
  {
   "cell_type": "markdown",
   "id": "14b078f8",
   "metadata": {},
   "source": [
    "### Query everything after a date"
   ]
  },
  {
   "cell_type": "code",
   "execution_count": null,
   "id": "e875ce89",
   "metadata": {
    "scrolled": true
   },
   "outputs": [],
   "source": [
    "from datetime import date, datetime, timezone\n",
    "from nsl.stac.client import NSLClient\n",
    "from nsl.stac import utils, StacRequest, enum\n",
    "\n",
    "# make a filter that selects all data on or after August 21st, 2019\n",
    "value = date(2019, 8, 21)\n",
    "time_filter = utils.pb_timestampfield(value=value, rel_type=enum.FilterRelationship.GTE)\n",
    "stac_request = StacRequest(datetime=time_filter, limit=2)\n",
    "\n",
    "# get a client interface to the gRPC channel\n",
    "client = NSLClient()\n",
    "for stac_item in client.search(stac_request):\n",
    "    print(\"STAC item date, {0}, is after {1}: {2}\".format(\n",
    "        datetime.fromtimestamp(stac_item.observed.seconds, tz=timezone.utc).isoformat(),\n",
    "        datetime.fromtimestamp(time_filter.value.seconds, tz=timezone.utc).isoformat(),\n",
    "        stac_item.observed.seconds > time_filter.start.seconds))\n"
   ]
  },
  {
   "cell_type": "markdown",
   "id": "fc631447",
   "metadata": {},
   "source": [
    "### Query everything between two dates"
   ]
  },
  {
   "cell_type": "code",
   "execution_count": null,
   "id": "bc38bc4c",
   "metadata": {
    "scrolled": true
   },
   "outputs": [],
   "source": [
    "from datetime import datetime, timezone, timedelta\n",
    "from nsl.stac.client import NSLClient\n",
    "from nsl.stac import utils, enum, StacRequest\n",
    "# Query data from August 1, 2019\n",
    "start = datetime(2019, 8, 1, 0, 0, 0, tzinfo=timezone.utc)\n",
    "# ... up until August 10, 2019\n",
    "end = start + timedelta(days=9)\n",
    "time_filter = utils.pb_timestampfield(start=start, end=end, rel_type=enum.FilterRelationship.BETWEEN)\n",
    "\n",
    "stac_request = StacRequest(datetime=time_filter, limit=2)\n",
    "\n",
    "# get a client interface to the gRPC channel\n",
    "client = NSLClient()\n",
    "for stac_item in client.search(stac_request):\n",
    "    print(\"STAC item date, {0}, is before {1}: {2}\".format(\n",
    "        datetime.fromtimestamp(stac_item.observed.seconds, tz=timezone.utc).isoformat(),\n",
    "        datetime.fromtimestamp(time_filter.end.seconds, tz=timezone.utc).isoformat(),\n",
    "        stac_item.observed.seconds < time_filter.end.seconds))\n"
   ]
  },
  {
   "cell_type": "markdown",
   "id": "2d5b2164",
   "metadata": {},
   "source": [
    "### Select data for one day"
   ]
  },
  {
   "cell_type": "code",
   "execution_count": null,
   "id": "94096bba",
   "metadata": {
    "scrolled": true
   },
   "outputs": [],
   "source": [
    "from datetime import datetime, timezone, timedelta, date\n",
    "from nsl.stac.client import NSLClient\n",
    "from nsl.stac import utils, enum, StacRequest\n",
    "# Query all data for the entire day of August 6, 2019\n",
    "value = date(2019, 8, 6)\n",
    "# if you omit this tzinfo from the pb_timestampfield function, the default for tzinfo \n",
    "# is assumed to be utc \n",
    "texas_utc_offset = timezone(timedelta(hours=-6))\n",
    "time_filter = utils.pb_timestampfield(rel_type=enum.FilterRelationship.EQ,\n",
    "                                      value=value,\n",
    "                                      tzinfo=texas_utc_offset)\n",
    "\n",
    "stac_request = StacRequest(datetime=time_filter, limit=2)\n",
    "\n",
    "# get a client interface to the gRPC channel\n",
    "client = NSLClient()\n",
    "for stac_item in client.search(stac_request):\n",
    "    print(\"STAC item date, {0}, is before {1}: {2}\".format(\n",
    "        datetime.fromtimestamp(stac_item.observed.seconds, tz=timezone.utc).isoformat(),\n",
    "        datetime.fromtimestamp(time_filter.end.seconds, tz=texas_utc_offset).isoformat(),\n",
    "        stac_item.observed.seconds < time_filter.end.seconds))\n",
    "    print(\"STAC item date, {0}, is after {1}: {2}\".format(\n",
    "        datetime.fromtimestamp(stac_item.observed.seconds, tz=timezone.utc).isoformat(),\n",
    "        datetime.fromtimestamp(time_filter.start.seconds, tz=texas_utc_offset).isoformat(),\n",
    "        stac_item.observed.seconds > time_filter.start.seconds))\n"
   ]
  },
  {
   "cell_type": "markdown",
   "id": "a1c9a97e",
   "metadata": {},
   "source": [
    "## Downloading"
   ]
  },
  {
   "cell_type": "markdown",
   "id": "9fde79bb",
   "metadata": {},
   "source": [
    "### Thumbnails"
   ]
  },
  {
   "cell_type": "code",
   "execution_count": null,
   "id": "eabcd01f",
   "metadata": {
    "scrolled": true
   },
   "outputs": [],
   "source": [
    "import tempfile\n",
    "from IPython.display import Image, display\n",
    "\n",
    "from nsl.stac.client import NSLClient\n",
    "from nsl.stac import utils, enum, StacRequest, GeometryData, ProjectionData\n",
    "\n",
    "mlk_blvd_wkt = 'LINESTRING(-97.72842049283962 30.278624772098176,-97.72142529172878 30.2796624743974)'\n",
    "geometry_data = GeometryData(wkt=mlk_blvd_wkt, \n",
    "                             proj=ProjectionData(epsg=4326))\n",
    "time_filter = utils.pb_timestampfield(value=date(2019, 8, 25), rel_type=enum.FilterRelationship.LTE)\n",
    "stac_request = StacRequest(intersects=geometry_data,\n",
    "                           datetime=time_filter,\n",
    "                           limit=3)\n",
    "\n",
    "# get a client interface to the gRPC channel\n",
    "client = NSLClient()\n",
    "\n",
    "for stac_item in client.search(stac_request):\n",
    "    # get the thumbnail asset from the assets map\n",
    "    asset = utils.get_asset(stac_item, asset_type=enum.AssetType.THUMBNAIL)\n",
    "    # (side-note delete=False in NamedTemporaryFile is only required for windows.)\n",
    "    with tempfile.NamedTemporaryFile(suffix=\".png\", delete=False) as file_obj:\n",
    "        utils.download_asset(asset=asset, file_obj=file_obj)\n",
    "        display(Image(filename=file_obj.name))\n"
   ]
  },
  {
   "cell_type": "markdown",
   "id": "33e74356",
   "metadata": {},
   "source": [
    "### Geotiffs"
   ]
  },
  {
   "cell_type": "code",
   "execution_count": null,
   "id": "fe95cfef",
   "metadata": {
    "scrolled": true
   },
   "outputs": [],
   "source": [
    "import os\n",
    "import tempfile\n",
    "from datetime import date\n",
    "from nsl.stac import StacRequest, GeometryData, ProjectionData, enum\n",
    "from nsl.stac import utils\n",
    "from nsl.stac.client import NSLClient\n",
    "\n",
    "client = NSLClient()\n",
    "\n",
    "ut_stadium_wkt = \"POINT(-97.7323317 30.2830764)\"\n",
    "geometry_data = GeometryData(wkt=ut_stadium_wkt, proj=ProjectionData(epsg=4326))\n",
    "\n",
    "# Query data from before September 1, 2019\n",
    "time_filter = utils.pb_timestampfield(value=date(2019, 9, 1), rel_type=enum.FilterRelationship.LTE)\n",
    "\n",
    "stac_request = StacRequest(datetime=time_filter, intersects=geometry_data)\n",
    "\n",
    "stac_item = client.search_one(stac_request)\n",
    "\n",
    "# get the Geotiff asset from the assets map\n",
    "asset = utils.get_asset(stac_item, asset_type=enum.AssetType.GEOTIFF)\n",
    "\n",
    "with tempfile.TemporaryDirectory() as d:\n",
    "    file_path = utils.download_asset(asset=asset, save_directory=d)\n",
    "    print(\"{0} has {1} bytes\".format(os.path.basename(file_path), os.path.getsize(file_path)))\n"
   ]
  },
  {
   "cell_type": "markdown",
   "id": "18505ad6",
   "metadata": {},
   "source": [
    "## Handling deadlines"
   ]
  },
  {
   "cell_type": "code",
   "execution_count": null,
   "id": "02aeca04",
   "metadata": {
    "scrolled": true
   },
   "outputs": [],
   "source": [
    "import os\n",
    "import tempfile\n",
    "from datetime import date\n",
    "from nsl.stac import StacRequest, GeometryData, ProjectionData, enum\n",
    "from nsl.stac.utils import download_asset, get_asset, pb_timestampfield\n",
    "from nsl.stac.client import NSLClient\n",
    "\n",
    "\n",
    "ut_stadium_wkt = \"POINT(-97.7323317 30.2830764)\"\n",
    "geometry_data = GeometryData(wkt=ut_stadium_wkt, proj=ProjectionData(epsg=4326))\n",
    "\n",
    "# Query data from before September 1, 2019\n",
    "time_filter = pb_timestampfield(value=date(2019, 9, 1), rel_type=enum.FilterRelationship.LTE)\n",
    "\n",
    "# limit is set to 2 here, but it would work if you set it to 100 or 1000\n",
    "stac_request = StacRequest(datetime=time_filter, intersects=geometry_data, limit=2)\n",
    "\n",
    "# get a client interface to the gRPC channel. This client singleton is threadsafe\n",
    "client = NSLClient()\n",
    "\n",
    "# collect all stac items in a list\n",
    "stac_items = list(client.search(stac_request))\n",
    "\n",
    "with tempfile.TemporaryDirectory() as d:\n",
    "    for stac_item in stac_items:\n",
    "        print(\"STAC item id: {}\".format(stac_item.id))\n",
    "        asset = get_asset(stac_item, asset_type=enum.AssetType.GEOTIFF)\n",
    "        filename = download_asset(asset=asset, save_directory=d)\n",
    "        print(\"saved {}\".format(os.path.basename(filename)))\n"
   ]
  }
 ],
 "metadata": {
  "kernelspec": {
   "display_name": "Python 3 (ipykernel)",
   "language": "python",
   "name": "python3"
  },
  "language_info": {
   "codemirror_mode": {
    "name": "ipython",
    "version": 3
   },
   "file_extension": ".py",
   "mimetype": "text/x-python",
   "name": "python",
   "nbconvert_exporter": "python",
   "pygments_lexer": "ipython3",
   "version": "3.8.11"
  }
 },
 "nbformat": 4,
 "nbformat_minor": 5
}
